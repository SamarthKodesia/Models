{
 "cells": [
  {
   "cell_type": "code",
   "execution_count": 136,
   "metadata": {},
   "outputs": [],
   "source": [
    "import cv2"
   ]
  },
  {
   "cell_type": "code",
   "execution_count": 137,
   "metadata": {},
   "outputs": [
    {
     "data": {
      "text/plain": [
       "'3.4.2'"
      ]
     },
     "execution_count": 137,
     "metadata": {},
     "output_type": "execute_result"
    }
   ],
   "source": [
    "cv2.__version__"
   ]
  },
  {
   "cell_type": "code",
   "execution_count": 208,
   "metadata": {},
   "outputs": [],
   "source": [
    "import os\n",
    "import os.path\n",
    "import json\n",
    "import sys\n",
    "import pytesseract\n",
    "import re\n",
    "import csv\n",
    "import dateutil.parser as dparser\n",
    "from PIL import Image\n",
    "path = sys.argv[1]"
   ]
  },
  {
   "cell_type": "code",
   "execution_count": 248,
   "metadata": {},
   "outputs": [],
   "source": [
    "img = Image.open('Aadhaar-card.png')"
   ]
  },
  {
   "cell_type": "code",
   "execution_count": 249,
   "metadata": {},
   "outputs": [],
   "source": [
    "img = img.convert('RGBA')\n",
    "pix = img.load()"
   ]
  },
  {
   "cell_type": "code",
   "execution_count": 250,
   "metadata": {},
   "outputs": [],
   "source": [
    "for y in range(img.size[1]):\n",
    "    for x in range(img.size[0]):\n",
    "        if pix[x, y][0] < 102 or pix[x, y][1] < 102 or pix[x, y][2] < 102:\n",
    "            pix[x, y] = (0, 0, 0, 255)\n",
    "        else:\n",
    "            pix[x, y] = (255, 255, 255, 255)\n",
    "\n",
    "img.save('temp.png')"
   ]
  },
  {
   "cell_type": "code",
   "execution_count": 251,
   "metadata": {},
   "outputs": [
    {
     "name": "stdout",
     "output_type": "stream",
     "text": [
      "Name Xxx\n",
      "DOB: XX-XX-XRXK\n",
      "\n",
      " \n",
      "\n",
      "Gender: MALE oe\n",
      "\n",
      "ou 11112222, BF\n",
      "ant Se ae APRIL\n"
     ]
    }
   ],
   "source": [
    "text = pytesseract.image_to_string(Image.open('temp.png'))\n",
    "print(text)"
   ]
  },
  {
   "cell_type": "code",
   "execution_count": 252,
   "metadata": {},
   "outputs": [],
   "source": [
    "# Initializing data variable\n",
    "name = None\n",
    "gender = None\n",
    "ayear = None\n",
    "uid = None\n",
    "yearline = []\n",
    "genline = []\n",
    "nameline = []\n",
    "text1 = []\n",
    "text2 = []\n",
    "genderStr = '(Female|Male|emale|male|ale|FEMALE|MALE|EMALE)$'"
   ]
  },
  {
   "cell_type": "code",
   "execution_count": 253,
   "metadata": {},
   "outputs": [],
   "source": [
    "\n",
    "# Searching for Year of Birth\n",
    "lines = text\n",
    "# print (lines)\n",
    "for wordlist in lines.split('\\n'):\n",
    "    xx = wordlist.split()\n",
    "    if [w for w in xx if re.search('(Year|Birth|irth|YoB|YOB:|DOB:|DOB)$', w)]:\n",
    "        yearline = wordlist\n",
    "        break\n",
    "    else:\n",
    "        text1.append(wordlist)\n",
    "try:\n",
    "    text2 = text.split(yearline, 1)[1]\n",
    "except Exception:\n",
    "    pass\n",
    "\n",
    "# Searching for Gender\n",
    "try:\n",
    "    for wordlist in lines.split('\\n'):\n",
    "        xx = wordlist.split()\n",
    "        if [w for w in xx if re.search(genderStr, w)]:\n",
    "            genline = wordlist\n",
    "            break\n",
    "\n",
    "    if 'Female' in genline or 'FEMALE' in genline:\n",
    "        gender = \"Female\"\n",
    "    if 'Male' in genline or 'MALE' in genline:\n",
    "        gender = \"Male\"\n",
    "\n",
    "    text2 = text.split(genline, 1)[1]\n",
    "except Exception:\n",
    "    pass\n"
   ]
  },
  {
   "cell_type": "code",
   "execution_count": 258,
   "metadata": {},
   "outputs": [],
   "source": [
    "# Searching for UID\n",
    "uid = ''\n",
    "try:\n",
    "    newlist = []\n",
    "    for xx in text2.split('\\n'):\n",
    "        newlist.append(xx)\n",
    "    newlist = list(filter(lambda x: len(x) > 12, newlist))\n",
    "    for no in newlist:\n",
    "        if re.search(\"[0-9]\", no):\n",
    "            for character in no:\n",
    "                if character.isdigit():\n",
    "                    uid+=character\n",
    "\n",
    "except Exception:\n",
    "    pass\n",
    "\n",
    "# Making tuples of data\n",
    "data = {}\n",
    "data['Name'] = text1[0]\n",
    "data['Gender'] ='Gender: '+ gender\n",
    "data['Birth year'] = yearline\n",
    "data['Uid'] = 'UID: '+uid"
   ]
  },
  {
   "cell_type": "code",
   "execution_count": 259,
   "metadata": {},
   "outputs": [
    {
     "name": "stdout",
     "output_type": "stream",
     "text": [
      "+++++++++++++++++++++++++++++++\n",
      "Name Xxx\n",
      "-------------------------------\n",
      "Gender: Male\n",
      "-------------------------------\n",
      "DOB: XX-XX-XRXK\n",
      "-------------------------------\n",
      "UID: 11112222\n",
      "-------------------------------\n"
     ]
    }
   ],
   "source": [
    "print(\"+++++++++++++++++++++++++++++++\")\n",
    "print(data['Name'])\n",
    "print(\"-------------------------------\")\n",
    "print(data['Gender'])\n",
    "print(\"-------------------------------\")\n",
    "print(data['Birth year'])\n",
    "print(\"-------------------------------\")\n",
    "print(data['Uid'])\n",
    "print(\"-------------------------------\")"
   ]
  },
  {
   "cell_type": "code",
   "execution_count": null,
   "metadata": {},
   "outputs": [],
   "source": []
  },
  {
   "cell_type": "code",
   "execution_count": null,
   "metadata": {},
   "outputs": [],
   "source": []
  }
 ],
 "metadata": {
  "kernelspec": {
   "display_name": "Python 3",
   "language": "python",
   "name": "python3"
  },
  "language_info": {
   "codemirror_mode": {
    "name": "ipython",
    "version": 3
   },
   "file_extension": ".py",
   "mimetype": "text/x-python",
   "name": "python",
   "nbconvert_exporter": "python",
   "pygments_lexer": "ipython3",
   "version": "3.7.3"
  }
 },
 "nbformat": 4,
 "nbformat_minor": 2
}
